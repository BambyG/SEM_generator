{
 "cells": [
  {
   "cell_type": "markdown",
   "metadata": {},
   "source": [
    "# SEM Campaign Generator"
   ]
  },
  {
   "cell_type": "markdown",
   "metadata": {
    "collapsed": true
   },
   "source": [
    "As you might know before getting into Data Science I was a Marketing Manager.\n",
    "An important part of our SEM campaigns was actually to create them, based on a good keyword and ad copy research and brainstorming. \n",
    "\n",
    "I got this project idea from a datacamp tutorial, I decided to apply it to a company I use quite often: Deliveroo. \n",
    "\n",
    "I am using BeautifulSoup to extract data from their webpage.\n",
    "The idea here it's not creating the perfect ads because that would have required me to do a proper keyword search, but rather focussing on the technical side of it. \n",
    "\n",
    "**How can I use python to save time on such marketing tasks?**\n",
    "\n",
    "Let's go!"
   ]
  },
  {
   "cell_type": "markdown",
   "metadata": {},
   "source": [
    "![](restaurants.jpg)"
   ]
  },
  {
   "cell_type": "markdown",
   "metadata": {},
   "source": [
    "**Imports**"
   ]
  },
  {
   "cell_type": "code",
   "execution_count": 1,
   "metadata": {
    "collapsed": true
   },
   "outputs": [],
   "source": [
    "import pandas as pd\n",
    "import requests\n",
    "from bs4 import BeautifulSoup\n",
    "page = 'https://deliveroo.de/en/'\n",
    "resp = requests.get(page)\n",
    "soup = BeautifulSoup(resp.text, 'lxml')\n",
    "\n",
    "\n"
   ]
  },
  {
   "cell_type": "markdown",
   "metadata": {},
   "source": [
    "**Select the piece of HTML code that holds the information we need**"
   ]
  },
  {
   "cell_type": "code",
   "execution_count": 2,
   "metadata": {},
   "outputs": [
    {
     "data": {
      "text/plain": [
       "[<div class=\"e2e5cde65adf4422\"><h2 class=\"c1a36a7fabe35b74\">Need some more options? </h2><ul class=\"e9048103aff13064\"><li><a href=\"/en/pizza-takeaway\">pizza</a></li><li><a href=\"/en/lebanese-takeaway\">lebanese</a></li><li><a href=\"/en/american-takeaway\">american</a></li><li><a href=\"/en/indian-takeaway\">indian</a></li><li><a href=\"/en/vegetarian-takeaway\">vegetarian</a></li><li><a href=\"/en/chinese-takeaway\">chinese</a></li><li><a href=\"/en/dessert-takeaway\">dessert</a></li><li><a href=\"/en/greek-takeaway\">greek</a></li><li><a href=\"/en/sushi-takeaway\">sushi</a></li><li><a href=\"/en/thai-takeaway\">thai</a></li><li><a href=\"/en/italian-takeaway\">italian</a></li><li><a href=\"/en/mexican-takeaway\">mexican</a></li><li><a href=\"/en/japanese-takeaway\">japanese</a></li></ul></div>]"
      ]
     },
     "execution_count": 2,
     "metadata": {},
     "output_type": "execute_result"
    }
   ],
   "source": [
    "allcuisine = soup.find_all(\"div\", class_=\"e2e5cde65adf4422\")\n",
    "allcuisine"
   ]
  },
  {
   "cell_type": "markdown",
   "metadata": {},
   "source": [
    "**Extracting the urls and cuisine type**"
   ]
  },
  {
   "cell_type": "code",
   "execution_count": 3,
   "metadata": {
    "collapsed": true
   },
   "outputs": [],
   "source": [
    "url=[]\n",
    "cuisine = []\n",
    "for x in allcuisine:\n",
    "    for a in x.find_all(\"a\"):\n",
    "        u = 'https://deliveroo.de'+ a['href'] +'/berlin'\n",
    "        url.append(u)\n",
    "        cuisine.append(a.get_text())"
   ]
  },
  {
   "cell_type": "code",
   "execution_count": 4,
   "metadata": {},
   "outputs": [
    {
     "data": {
      "text/plain": [
       "['https://deliveroo.de/en/pizza-takeaway/berlin',\n",
       " 'https://deliveroo.de/en/lebanese-takeaway/berlin',\n",
       " 'https://deliveroo.de/en/american-takeaway/berlin',\n",
       " 'https://deliveroo.de/en/indian-takeaway/berlin',\n",
       " 'https://deliveroo.de/en/vegetarian-takeaway/berlin',\n",
       " 'https://deliveroo.de/en/chinese-takeaway/berlin',\n",
       " 'https://deliveroo.de/en/dessert-takeaway/berlin',\n",
       " 'https://deliveroo.de/en/greek-takeaway/berlin',\n",
       " 'https://deliveroo.de/en/sushi-takeaway/berlin',\n",
       " 'https://deliveroo.de/en/thai-takeaway/berlin',\n",
       " 'https://deliveroo.de/en/italian-takeaway/berlin',\n",
       " 'https://deliveroo.de/en/mexican-takeaway/berlin',\n",
       " 'https://deliveroo.de/en/japanese-takeaway/berlin']"
      ]
     },
     "execution_count": 4,
     "metadata": {},
     "output_type": "execute_result"
    }
   ],
   "source": [
    "url"
   ]
  },
  {
   "cell_type": "code",
   "execution_count": 5,
   "metadata": {},
   "outputs": [
    {
     "data": {
      "text/plain": [
       "['pizza',\n",
       " 'lebanese',\n",
       " 'american',\n",
       " 'indian',\n",
       " 'vegetarian',\n",
       " 'chinese',\n",
       " 'dessert',\n",
       " 'greek',\n",
       " 'sushi',\n",
       " 'thai',\n",
       " 'italian',\n",
       " 'mexican',\n",
       " 'japanese']"
      ]
     },
     "execution_count": 5,
     "metadata": {},
     "output_type": "execute_result"
    }
   ],
   "source": [
    "cuisine"
   ]
  },
  {
   "cell_type": "markdown",
   "metadata": {},
   "source": [
    "**Create a DataFrame to store the information**"
   ]
  },
  {
   "cell_type": "code",
   "execution_count": 6,
   "metadata": {
    "scrolled": true
   },
   "outputs": [
    {
     "data": {
      "text/html": [
       "<div>\n",
       "<style>\n",
       "    .dataframe thead tr:only-child th {\n",
       "        text-align: right;\n",
       "    }\n",
       "\n",
       "    .dataframe thead th {\n",
       "        text-align: left;\n",
       "    }\n",
       "\n",
       "    .dataframe tbody tr th {\n",
       "        vertical-align: top;\n",
       "    }\n",
       "</style>\n",
       "<table border=\"1\" class=\"dataframe\">\n",
       "  <thead>\n",
       "    <tr style=\"text-align: right;\">\n",
       "      <th></th>\n",
       "      <th>name</th>\n",
       "      <th>url</th>\n",
       "    </tr>\n",
       "  </thead>\n",
       "  <tbody>\n",
       "    <tr>\n",
       "      <th>0</th>\n",
       "      <td>pizza</td>\n",
       "      <td>https://deliveroo.de/en/pizza-takeaway/berlin</td>\n",
       "    </tr>\n",
       "    <tr>\n",
       "      <th>1</th>\n",
       "      <td>lebanese</td>\n",
       "      <td>https://deliveroo.de/en/lebanese-takeaway/berlin</td>\n",
       "    </tr>\n",
       "    <tr>\n",
       "      <th>2</th>\n",
       "      <td>american</td>\n",
       "      <td>https://deliveroo.de/en/american-takeaway/berlin</td>\n",
       "    </tr>\n",
       "    <tr>\n",
       "      <th>3</th>\n",
       "      <td>indian</td>\n",
       "      <td>https://deliveroo.de/en/indian-takeaway/berlin</td>\n",
       "    </tr>\n",
       "    <tr>\n",
       "      <th>4</th>\n",
       "      <td>vegetarian</td>\n",
       "      <td>https://deliveroo.de/en/vegetarian-takeaway/be...</td>\n",
       "    </tr>\n",
       "  </tbody>\n",
       "</table>\n",
       "</div>"
      ],
      "text/plain": [
       "         name                                                url\n",
       "0       pizza      https://deliveroo.de/en/pizza-takeaway/berlin\n",
       "1    lebanese   https://deliveroo.de/en/lebanese-takeaway/berlin\n",
       "2    american   https://deliveroo.de/en/american-takeaway/berlin\n",
       "3      indian     https://deliveroo.de/en/indian-takeaway/berlin\n",
       "4  vegetarian  https://deliveroo.de/en/vegetarian-takeaway/be..."
      ]
     },
     "execution_count": 6,
     "metadata": {},
     "output_type": "execute_result"
    }
   ],
   "source": [
    "df = pd.DataFrame({'name': cuisine,'url': url})\n",
    "df.head()"
   ]
  },
  {
   "cell_type": "markdown",
   "metadata": {},
   "source": [
    "**Create a function to generate the final keyword dataframe**"
   ]
  },
  {
   "cell_type": "code",
   "execution_count": 7,
   "metadata": {
    "collapsed": true
   },
   "outputs": [],
   "source": [
    "def generate_keywords(topics, keywords, match_types=['Exact', 'Phrase', 'Broad'], campaign='SEM_cuisine'):\n",
    "    col_names = ['Campaign', 'Ad Group', 'Keyword', 'Criterion Type']\n",
    "    campaign_keywords = []\n",
    "\n",
    "    for topic in topics:\n",
    "        for word in keywords:\n",
    "            for match in match_types:\n",
    "                if match == 'Broad':\n",
    "                    keyword = '+' + ' +'.join([topic.lower().replace(' ', ' +'), word.replace(' ', ' +')])\n",
    "                else:\n",
    "                    keyword = topic.lower() + ' ' + word\n",
    "                row = [campaign,  # campaign name\n",
    "                       topic,  # ad group name\n",
    "                       keyword, # cuisine\n",
    "                       match]  # keyword match type\n",
    "                campaign_keywords.append(row)\n",
    "          \n",
    "    for topic in topics:\n",
    "        for word in keywords:\n",
    "            for match in match_types:\n",
    "                if match == 'Broad':\n",
    "                    keyword = '+' + ' +'.join([word.replace(' ', ' +'), topic.lower().replace(' ', ' +')])\n",
    "                else:\n",
    "                    keyword = word + ' ' + topic.lower()\n",
    "                row = [campaign,  # campaign name\n",
    "                       topic,  # ad group name\n",
    "                       keyword, # cuisine\n",
    "                       match]  # keyword match type\n",
    "                campaign_keywords.append(row)\n",
    "\n",
    "    return pd.DataFrame.from_records(campaign_keywords, columns=col_names)"
   ]
  },
  {
   "cell_type": "markdown",
   "metadata": {},
   "source": [
    "**Apply the custom function**"
   ]
  },
  {
   "cell_type": "code",
   "execution_count": 8,
   "metadata": {
    "scrolled": true
   },
   "outputs": [
    {
     "data": {
      "text/html": [
       "<div>\n",
       "<style>\n",
       "    .dataframe thead tr:only-child th {\n",
       "        text-align: right;\n",
       "    }\n",
       "\n",
       "    .dataframe thead th {\n",
       "        text-align: left;\n",
       "    }\n",
       "\n",
       "    .dataframe tbody tr th {\n",
       "        vertical-align: top;\n",
       "    }\n",
       "</style>\n",
       "<table border=\"1\" class=\"dataframe\">\n",
       "  <thead>\n",
       "    <tr style=\"text-align: right;\">\n",
       "      <th></th>\n",
       "      <th>Campaign</th>\n",
       "      <th>Ad Group</th>\n",
       "      <th>Keyword</th>\n",
       "      <th>Criterion Type</th>\n",
       "    </tr>\n",
       "  </thead>\n",
       "  <tbody>\n",
       "    <tr>\n",
       "      <th>0</th>\n",
       "      <td>SEM_cuisine</td>\n",
       "      <td>pizza</td>\n",
       "      <td>pizza eat</td>\n",
       "      <td>Exact</td>\n",
       "    </tr>\n",
       "    <tr>\n",
       "      <th>1</th>\n",
       "      <td>SEM_cuisine</td>\n",
       "      <td>pizza</td>\n",
       "      <td>pizza eat</td>\n",
       "      <td>Phrase</td>\n",
       "    </tr>\n",
       "    <tr>\n",
       "      <th>2</th>\n",
       "      <td>SEM_cuisine</td>\n",
       "      <td>pizza</td>\n",
       "      <td>+pizza +eat</td>\n",
       "      <td>Broad</td>\n",
       "    </tr>\n",
       "    <tr>\n",
       "      <th>3</th>\n",
       "      <td>SEM_cuisine</td>\n",
       "      <td>pizza</td>\n",
       "      <td>pizza take away</td>\n",
       "      <td>Exact</td>\n",
       "    </tr>\n",
       "    <tr>\n",
       "      <th>4</th>\n",
       "      <td>SEM_cuisine</td>\n",
       "      <td>pizza</td>\n",
       "      <td>pizza take away</td>\n",
       "      <td>Phrase</td>\n",
       "    </tr>\n",
       "  </tbody>\n",
       "</table>\n",
       "</div>"
      ],
      "text/plain": [
       "      Campaign Ad Group          Keyword Criterion Type\n",
       "0  SEM_cuisine    pizza        pizza eat          Exact\n",
       "1  SEM_cuisine    pizza        pizza eat         Phrase\n",
       "2  SEM_cuisine    pizza      +pizza +eat          Broad\n",
       "3  SEM_cuisine    pizza  pizza take away          Exact\n",
       "4  SEM_cuisine    pizza  pizza take away         Phrase"
      ]
     },
     "execution_count": 8,
     "metadata": {},
     "output_type": "execute_result"
    }
   ],
   "source": [
    "topics = df['name']\n",
    "keywords = ['eat', 'take away', 'delicious', 'food', 'food delivery', 'deliveroo', 'berlin','order','for dinner','for lunch','restaurant']\n",
    "df_keywords = generate_keywords(topics, keywords)\n",
    "df_keywords.head()"
   ]
  },
  {
   "cell_type": "markdown",
   "metadata": {},
   "source": [
    "**Add the campaign field to the df dataframe**"
   ]
  },
  {
   "cell_type": "code",
   "execution_count": 10,
   "metadata": {},
   "outputs": [
    {
     "data": {
      "text/html": [
       "<div>\n",
       "<style>\n",
       "    .dataframe thead tr:only-child th {\n",
       "        text-align: right;\n",
       "    }\n",
       "\n",
       "    .dataframe thead th {\n",
       "        text-align: left;\n",
       "    }\n",
       "\n",
       "    .dataframe tbody tr th {\n",
       "        vertical-align: top;\n",
       "    }\n",
       "</style>\n",
       "<table border=\"1\" class=\"dataframe\">\n",
       "  <thead>\n",
       "    <tr style=\"text-align: right;\">\n",
       "      <th></th>\n",
       "      <th>name</th>\n",
       "      <th>url</th>\n",
       "      <th>Campaign</th>\n",
       "    </tr>\n",
       "  </thead>\n",
       "  <tbody>\n",
       "    <tr>\n",
       "      <th>0</th>\n",
       "      <td>pizza</td>\n",
       "      <td>https://deliveroo.de/en/pizza-takeaway/berlin</td>\n",
       "      <td>SEM_cuisine</td>\n",
       "    </tr>\n",
       "    <tr>\n",
       "      <th>1</th>\n",
       "      <td>lebanese</td>\n",
       "      <td>https://deliveroo.de/en/lebanese-takeaway/berlin</td>\n",
       "      <td>SEM_cuisine</td>\n",
       "    </tr>\n",
       "    <tr>\n",
       "      <th>2</th>\n",
       "      <td>american</td>\n",
       "      <td>https://deliveroo.de/en/american-takeaway/berlin</td>\n",
       "      <td>SEM_cuisine</td>\n",
       "    </tr>\n",
       "    <tr>\n",
       "      <th>3</th>\n",
       "      <td>indian</td>\n",
       "      <td>https://deliveroo.de/en/indian-takeaway/berlin</td>\n",
       "      <td>SEM_cuisine</td>\n",
       "    </tr>\n",
       "    <tr>\n",
       "      <th>4</th>\n",
       "      <td>vegetarian</td>\n",
       "      <td>https://deliveroo.de/en/vegetarian-takeaway/be...</td>\n",
       "      <td>SEM_cuisine</td>\n",
       "    </tr>\n",
       "  </tbody>\n",
       "</table>\n",
       "</div>"
      ],
      "text/plain": [
       "         name                                                url     Campaign\n",
       "0       pizza      https://deliveroo.de/en/pizza-takeaway/berlin  SEM_cuisine\n",
       "1    lebanese   https://deliveroo.de/en/lebanese-takeaway/berlin  SEM_cuisine\n",
       "2    american   https://deliveroo.de/en/american-takeaway/berlin  SEM_cuisine\n",
       "3      indian     https://deliveroo.de/en/indian-takeaway/berlin  SEM_cuisine\n",
       "4  vegetarian  https://deliveroo.de/en/vegetarian-takeaway/be...  SEM_cuisine"
      ]
     },
     "execution_count": 10,
     "metadata": {},
     "output_type": "execute_result"
    }
   ],
   "source": [
    "df['Campaign'] = 'SEM_cuisine'\n",
    "df.head()\n"
   ]
  },
  {
   "cell_type": "markdown",
   "metadata": {},
   "source": [
    "**Duplicate rows 3 times for each future descriptions**"
   ]
  },
  {
   "cell_type": "code",
   "execution_count": 11,
   "metadata": {},
   "outputs": [
    {
     "data": {
      "text/html": [
       "<div>\n",
       "<style>\n",
       "    .dataframe thead tr:only-child th {\n",
       "        text-align: right;\n",
       "    }\n",
       "\n",
       "    .dataframe thead th {\n",
       "        text-align: left;\n",
       "    }\n",
       "\n",
       "    .dataframe tbody tr th {\n",
       "        vertical-align: top;\n",
       "    }\n",
       "</style>\n",
       "<table border=\"1\" class=\"dataframe\">\n",
       "  <thead>\n",
       "    <tr style=\"text-align: right;\">\n",
       "      <th></th>\n",
       "      <th>Ad Group</th>\n",
       "      <th>Final URL</th>\n",
       "      <th>Campaign</th>\n",
       "    </tr>\n",
       "  </thead>\n",
       "  <tbody>\n",
       "    <tr>\n",
       "      <th>0</th>\n",
       "      <td>pizza</td>\n",
       "      <td>https://deliveroo.de/en/pizza-takeaway/berlin</td>\n",
       "      <td>SEM_cuisine</td>\n",
       "    </tr>\n",
       "    <tr>\n",
       "      <th>0</th>\n",
       "      <td>pizza</td>\n",
       "      <td>https://deliveroo.de/en/pizza-takeaway/berlin</td>\n",
       "      <td>SEM_cuisine</td>\n",
       "    </tr>\n",
       "    <tr>\n",
       "      <th>0</th>\n",
       "      <td>pizza</td>\n",
       "      <td>https://deliveroo.de/en/pizza-takeaway/berlin</td>\n",
       "      <td>SEM_cuisine</td>\n",
       "    </tr>\n",
       "    <tr>\n",
       "      <th>1</th>\n",
       "      <td>lebanese</td>\n",
       "      <td>https://deliveroo.de/en/lebanese-takeaway/berlin</td>\n",
       "      <td>SEM_cuisine</td>\n",
       "    </tr>\n",
       "    <tr>\n",
       "      <th>1</th>\n",
       "      <td>lebanese</td>\n",
       "      <td>https://deliveroo.de/en/lebanese-takeaway/berlin</td>\n",
       "      <td>SEM_cuisine</td>\n",
       "    </tr>\n",
       "  </tbody>\n",
       "</table>\n",
       "</div>"
      ],
      "text/plain": [
       "   Ad Group                                         Final URL     Campaign\n",
       "0     pizza     https://deliveroo.de/en/pizza-takeaway/berlin  SEM_cuisine\n",
       "0     pizza     https://deliveroo.de/en/pizza-takeaway/berlin  SEM_cuisine\n",
       "0     pizza     https://deliveroo.de/en/pizza-takeaway/berlin  SEM_cuisine\n",
       "1  lebanese  https://deliveroo.de/en/lebanese-takeaway/berlin  SEM_cuisine\n",
       "1  lebanese  https://deliveroo.de/en/lebanese-takeaway/berlin  SEM_cuisine"
      ]
     },
     "execution_count": 11,
     "metadata": {},
     "output_type": "execute_result"
    }
   ],
   "source": [
    "totalgr = len(df)\n",
    "df_ads = df.rename(columns={'name': 'Ad Group', 'url': 'Final URL'})#\n",
    "df_ads[['Campaign', 'Ad Group', 'Final URL']]\n",
    "df_ads= df_ads.iloc[[x  for x in range(totalgr) for i in range(3)], :] \n",
    "df_ads.head()"
   ]
  },
  {
   "cell_type": "markdown",
   "metadata": {},
   "source": [
    "**Apend the descriptions to each row**"
   ]
  },
  {
   "cell_type": "code",
   "execution_count": 12,
   "metadata": {
    "scrolled": true
   },
   "outputs": [
    {
     "data": {
      "text/html": [
       "<div>\n",
       "<style>\n",
       "    .dataframe thead tr:only-child th {\n",
       "        text-align: right;\n",
       "    }\n",
       "\n",
       "    .dataframe thead th {\n",
       "        text-align: left;\n",
       "    }\n",
       "\n",
       "    .dataframe tbody tr th {\n",
       "        vertical-align: top;\n",
       "    }\n",
       "</style>\n",
       "<table border=\"1\" class=\"dataframe\">\n",
       "  <thead>\n",
       "    <tr style=\"text-align: right;\">\n",
       "      <th></th>\n",
       "      <th>Ad Group</th>\n",
       "      <th>Final URL</th>\n",
       "      <th>Campaign</th>\n",
       "      <th>Description</th>\n",
       "    </tr>\n",
       "  </thead>\n",
       "  <tbody>\n",
       "    <tr>\n",
       "      <th>0</th>\n",
       "      <td>pizza</td>\n",
       "      <td>https://deliveroo.de/en/pizza-takeaway/berlin</td>\n",
       "      <td>SEM_cuisine</td>\n",
       "      <td>Order Food Online, fast reliable restaurants a...</td>\n",
       "    </tr>\n",
       "    <tr>\n",
       "      <th>0</th>\n",
       "      <td>pizza</td>\n",
       "      <td>https://deliveroo.de/en/pizza-takeaway/berlin</td>\n",
       "      <td>SEM_cuisine</td>\n",
       "      <td>Best restaurants, in few click and get your fo...</td>\n",
       "    </tr>\n",
       "    <tr>\n",
       "      <th>0</th>\n",
       "      <td>pizza</td>\n",
       "      <td>https://deliveroo.de/en/pizza-takeaway/berlin</td>\n",
       "      <td>SEM_cuisine</td>\n",
       "      <td>Fancy having a different meal today? Choose am...</td>\n",
       "    </tr>\n",
       "    <tr>\n",
       "      <th>1</th>\n",
       "      <td>lebanese</td>\n",
       "      <td>https://deliveroo.de/en/lebanese-takeaway/berlin</td>\n",
       "      <td>SEM_cuisine</td>\n",
       "      <td>Order Food Online, fast reliable restaurants a...</td>\n",
       "    </tr>\n",
       "    <tr>\n",
       "      <th>1</th>\n",
       "      <td>lebanese</td>\n",
       "      <td>https://deliveroo.de/en/lebanese-takeaway/berlin</td>\n",
       "      <td>SEM_cuisine</td>\n",
       "      <td>Best restaurants, in few click and get your fo...</td>\n",
       "    </tr>\n",
       "  </tbody>\n",
       "</table>\n",
       "</div>"
      ],
      "text/plain": [
       "   Ad Group                                         Final URL     Campaign  \\\n",
       "0     pizza     https://deliveroo.de/en/pizza-takeaway/berlin  SEM_cuisine   \n",
       "0     pizza     https://deliveroo.de/en/pizza-takeaway/berlin  SEM_cuisine   \n",
       "0     pizza     https://deliveroo.de/en/pizza-takeaway/berlin  SEM_cuisine   \n",
       "1  lebanese  https://deliveroo.de/en/lebanese-takeaway/berlin  SEM_cuisine   \n",
       "1  lebanese  https://deliveroo.de/en/lebanese-takeaway/berlin  SEM_cuisine   \n",
       "\n",
       "                                         Description  \n",
       "0  Order Food Online, fast reliable restaurants a...  \n",
       "0  Best restaurants, in few click and get your fo...  \n",
       "0  Fancy having a different meal today? Choose am...  \n",
       "1  Order Food Online, fast reliable restaurants a...  \n",
       "1  Best restaurants, in few click and get your fo...  "
      ]
     },
     "execution_count": 12,
     "metadata": {},
     "output_type": "execute_result"
    }
   ],
   "source": [
    "Description = [\n",
    "    'Order Food Online, fast reliable restaurants available at your door step',\n",
    "    'Best restaurants, in few click and get your food at your choosen location',\n",
    "    'Fancy having a different meal today? Choose among our partnership restaurants'   \n",
    "]\n",
    "Description = [x for i in range(totalgr) for x in Description ]\n",
    "df_ads['Description'] = Description\n",
    "df_ads.head()"
   ]
  },
  {
   "cell_type": "markdown",
   "metadata": {},
   "source": [
    "**Add and create an headline variable _ Print final dataframe**"
   ]
  },
  {
   "cell_type": "code",
   "execution_count": 15,
   "metadata": {},
   "outputs": [
    {
     "data": {
      "text/html": [
       "<div>\n",
       "<style>\n",
       "    .dataframe thead tr:only-child th {\n",
       "        text-align: right;\n",
       "    }\n",
       "\n",
       "    .dataframe thead th {\n",
       "        text-align: left;\n",
       "    }\n",
       "\n",
       "    .dataframe tbody tr th {\n",
       "        vertical-align: top;\n",
       "    }\n",
       "</style>\n",
       "<table border=\"1\" class=\"dataframe\">\n",
       "  <thead>\n",
       "    <tr style=\"text-align: right;\">\n",
       "      <th></th>\n",
       "      <th>Ad Group</th>\n",
       "      <th>Final URL</th>\n",
       "      <th>Campaign</th>\n",
       "      <th>Description</th>\n",
       "      <th>Headline 1</th>\n",
       "      <th>Headline</th>\n",
       "    </tr>\n",
       "  </thead>\n",
       "  <tbody>\n",
       "    <tr>\n",
       "      <th>0</th>\n",
       "      <td>pizza</td>\n",
       "      <td>https://deliveroo.de/en/pizza-takeaway/berlin</td>\n",
       "      <td>SEM_cuisine</td>\n",
       "      <td>Order Food Online, fast reliable restaurants a...</td>\n",
       "      <td>Pizza Food Delivery Service</td>\n",
       "      <td>Pizza Food Delivery Service</td>\n",
       "    </tr>\n",
       "    <tr>\n",
       "      <th>0</th>\n",
       "      <td>pizza</td>\n",
       "      <td>https://deliveroo.de/en/pizza-takeaway/berlin</td>\n",
       "      <td>SEM_cuisine</td>\n",
       "      <td>Best restaurants, in few click and get your fo...</td>\n",
       "      <td>Pizza Food Delivery Service</td>\n",
       "      <td>Pizza Food Delivery Service</td>\n",
       "    </tr>\n",
       "    <tr>\n",
       "      <th>0</th>\n",
       "      <td>pizza</td>\n",
       "      <td>https://deliveroo.de/en/pizza-takeaway/berlin</td>\n",
       "      <td>SEM_cuisine</td>\n",
       "      <td>Fancy having a different meal today? Choose am...</td>\n",
       "      <td>Pizza Food Delivery Service</td>\n",
       "      <td>Pizza Food Delivery Service</td>\n",
       "    </tr>\n",
       "    <tr>\n",
       "      <th>1</th>\n",
       "      <td>lebanese</td>\n",
       "      <td>https://deliveroo.de/en/lebanese-takeaway/berlin</td>\n",
       "      <td>SEM_cuisine</td>\n",
       "      <td>Order Food Online, fast reliable restaurants a...</td>\n",
       "      <td>Lebanese Food Delivery Service</td>\n",
       "      <td>Lebanese Food Delivery Service</td>\n",
       "    </tr>\n",
       "    <tr>\n",
       "      <th>1</th>\n",
       "      <td>lebanese</td>\n",
       "      <td>https://deliveroo.de/en/lebanese-takeaway/berlin</td>\n",
       "      <td>SEM_cuisine</td>\n",
       "      <td>Best restaurants, in few click and get your fo...</td>\n",
       "      <td>Lebanese Food Delivery Service</td>\n",
       "      <td>Lebanese Food Delivery Service</td>\n",
       "    </tr>\n",
       "    <tr>\n",
       "      <th>1</th>\n",
       "      <td>lebanese</td>\n",
       "      <td>https://deliveroo.de/en/lebanese-takeaway/berlin</td>\n",
       "      <td>SEM_cuisine</td>\n",
       "      <td>Fancy having a different meal today? Choose am...</td>\n",
       "      <td>Lebanese Food Delivery Service</td>\n",
       "      <td>Lebanese Food Delivery Service</td>\n",
       "    </tr>\n",
       "    <tr>\n",
       "      <th>2</th>\n",
       "      <td>american</td>\n",
       "      <td>https://deliveroo.de/en/american-takeaway/berlin</td>\n",
       "      <td>SEM_cuisine</td>\n",
       "      <td>Order Food Online, fast reliable restaurants a...</td>\n",
       "      <td>American Food Delivery Service</td>\n",
       "      <td>American Food Delivery Service</td>\n",
       "    </tr>\n",
       "    <tr>\n",
       "      <th>2</th>\n",
       "      <td>american</td>\n",
       "      <td>https://deliveroo.de/en/american-takeaway/berlin</td>\n",
       "      <td>SEM_cuisine</td>\n",
       "      <td>Best restaurants, in few click and get your fo...</td>\n",
       "      <td>American Food Delivery Service</td>\n",
       "      <td>American Food Delivery Service</td>\n",
       "    </tr>\n",
       "    <tr>\n",
       "      <th>2</th>\n",
       "      <td>american</td>\n",
       "      <td>https://deliveroo.de/en/american-takeaway/berlin</td>\n",
       "      <td>SEM_cuisine</td>\n",
       "      <td>Fancy having a different meal today? Choose am...</td>\n",
       "      <td>American Food Delivery Service</td>\n",
       "      <td>American Food Delivery Service</td>\n",
       "    </tr>\n",
       "    <tr>\n",
       "      <th>3</th>\n",
       "      <td>indian</td>\n",
       "      <td>https://deliveroo.de/en/indian-takeaway/berlin</td>\n",
       "      <td>SEM_cuisine</td>\n",
       "      <td>Order Food Online, fast reliable restaurants a...</td>\n",
       "      <td>Indian Food Delivery Service</td>\n",
       "      <td>Indian Food Delivery Service</td>\n",
       "    </tr>\n",
       "    <tr>\n",
       "      <th>3</th>\n",
       "      <td>indian</td>\n",
       "      <td>https://deliveroo.de/en/indian-takeaway/berlin</td>\n",
       "      <td>SEM_cuisine</td>\n",
       "      <td>Best restaurants, in few click and get your fo...</td>\n",
       "      <td>Indian Food Delivery Service</td>\n",
       "      <td>Indian Food Delivery Service</td>\n",
       "    </tr>\n",
       "    <tr>\n",
       "      <th>3</th>\n",
       "      <td>indian</td>\n",
       "      <td>https://deliveroo.de/en/indian-takeaway/berlin</td>\n",
       "      <td>SEM_cuisine</td>\n",
       "      <td>Fancy having a different meal today? Choose am...</td>\n",
       "      <td>Indian Food Delivery Service</td>\n",
       "      <td>Indian Food Delivery Service</td>\n",
       "    </tr>\n",
       "  </tbody>\n",
       "</table>\n",
       "</div>"
      ],
      "text/plain": [
       "   Ad Group                                         Final URL     Campaign  \\\n",
       "0     pizza     https://deliveroo.de/en/pizza-takeaway/berlin  SEM_cuisine   \n",
       "0     pizza     https://deliveroo.de/en/pizza-takeaway/berlin  SEM_cuisine   \n",
       "0     pizza     https://deliveroo.de/en/pizza-takeaway/berlin  SEM_cuisine   \n",
       "1  lebanese  https://deliveroo.de/en/lebanese-takeaway/berlin  SEM_cuisine   \n",
       "1  lebanese  https://deliveroo.de/en/lebanese-takeaway/berlin  SEM_cuisine   \n",
       "1  lebanese  https://deliveroo.de/en/lebanese-takeaway/berlin  SEM_cuisine   \n",
       "2  american  https://deliveroo.de/en/american-takeaway/berlin  SEM_cuisine   \n",
       "2  american  https://deliveroo.de/en/american-takeaway/berlin  SEM_cuisine   \n",
       "2  american  https://deliveroo.de/en/american-takeaway/berlin  SEM_cuisine   \n",
       "3    indian    https://deliveroo.de/en/indian-takeaway/berlin  SEM_cuisine   \n",
       "3    indian    https://deliveroo.de/en/indian-takeaway/berlin  SEM_cuisine   \n",
       "3    indian    https://deliveroo.de/en/indian-takeaway/berlin  SEM_cuisine   \n",
       "\n",
       "                                         Description  \\\n",
       "0  Order Food Online, fast reliable restaurants a...   \n",
       "0  Best restaurants, in few click and get your fo...   \n",
       "0  Fancy having a different meal today? Choose am...   \n",
       "1  Order Food Online, fast reliable restaurants a...   \n",
       "1  Best restaurants, in few click and get your fo...   \n",
       "1  Fancy having a different meal today? Choose am...   \n",
       "2  Order Food Online, fast reliable restaurants a...   \n",
       "2  Best restaurants, in few click and get your fo...   \n",
       "2  Fancy having a different meal today? Choose am...   \n",
       "3  Order Food Online, fast reliable restaurants a...   \n",
       "3  Best restaurants, in few click and get your fo...   \n",
       "3  Fancy having a different meal today? Choose am...   \n",
       "\n",
       "                       Headline 1                        Headline  \n",
       "0     Pizza Food Delivery Service     Pizza Food Delivery Service  \n",
       "0     Pizza Food Delivery Service     Pizza Food Delivery Service  \n",
       "0     Pizza Food Delivery Service     Pizza Food Delivery Service  \n",
       "1  Lebanese Food Delivery Service  Lebanese Food Delivery Service  \n",
       "1  Lebanese Food Delivery Service  Lebanese Food Delivery Service  \n",
       "1  Lebanese Food Delivery Service  Lebanese Food Delivery Service  \n",
       "2  American Food Delivery Service  American Food Delivery Service  \n",
       "2  American Food Delivery Service  American Food Delivery Service  \n",
       "2  American Food Delivery Service  American Food Delivery Service  \n",
       "3    Indian Food Delivery Service    Indian Food Delivery Service  \n",
       "3    Indian Food Delivery Service    Indian Food Delivery Service  \n",
       "3    Indian Food Delivery Service    Indian Food Delivery Service  "
      ]
     },
     "execution_count": 15,
     "metadata": {},
     "output_type": "execute_result"
    }
   ],
   "source": [
    "df_ads['Headline'] = df_ads['Ad Group'] + ' Food Delivery Service'\n",
    "df_ads['Headline']= df_ads['Headline'].str.title()\n",
    "df_ads.head(12)"
   ]
  },
  {
   "cell_type": "code",
   "execution_count": 16,
   "metadata": {},
   "outputs": [
    {
     "data": {
      "text/html": [
       "<div>\n",
       "<style>\n",
       "    .dataframe thead tr:only-child th {\n",
       "        text-align: right;\n",
       "    }\n",
       "\n",
       "    .dataframe thead th {\n",
       "        text-align: left;\n",
       "    }\n",
       "\n",
       "    .dataframe tbody tr th {\n",
       "        vertical-align: top;\n",
       "    }\n",
       "</style>\n",
       "<table border=\"1\" class=\"dataframe\">\n",
       "  <thead>\n",
       "    <tr style=\"text-align: right;\">\n",
       "      <th></th>\n",
       "      <th>Campaign</th>\n",
       "      <th>Ad Group</th>\n",
       "      <th>Keyword</th>\n",
       "      <th>Criterion Type</th>\n",
       "    </tr>\n",
       "  </thead>\n",
       "  <tbody>\n",
       "    <tr>\n",
       "      <th>0</th>\n",
       "      <td>SEM_cuisine</td>\n",
       "      <td>pizza</td>\n",
       "      <td>pizza eat</td>\n",
       "      <td>Exact</td>\n",
       "    </tr>\n",
       "    <tr>\n",
       "      <th>1</th>\n",
       "      <td>SEM_cuisine</td>\n",
       "      <td>pizza</td>\n",
       "      <td>pizza eat</td>\n",
       "      <td>Phrase</td>\n",
       "    </tr>\n",
       "    <tr>\n",
       "      <th>2</th>\n",
       "      <td>SEM_cuisine</td>\n",
       "      <td>pizza</td>\n",
       "      <td>+pizza +eat</td>\n",
       "      <td>Broad</td>\n",
       "    </tr>\n",
       "    <tr>\n",
       "      <th>3</th>\n",
       "      <td>SEM_cuisine</td>\n",
       "      <td>pizza</td>\n",
       "      <td>pizza take away</td>\n",
       "      <td>Exact</td>\n",
       "    </tr>\n",
       "    <tr>\n",
       "      <th>4</th>\n",
       "      <td>SEM_cuisine</td>\n",
       "      <td>pizza</td>\n",
       "      <td>pizza take away</td>\n",
       "      <td>Phrase</td>\n",
       "    </tr>\n",
       "  </tbody>\n",
       "</table>\n",
       "</div>"
      ],
      "text/plain": [
       "      Campaign Ad Group          Keyword Criterion Type\n",
       "0  SEM_cuisine    pizza        pizza eat          Exact\n",
       "1  SEM_cuisine    pizza        pizza eat         Phrase\n",
       "2  SEM_cuisine    pizza      +pizza +eat          Broad\n",
       "3  SEM_cuisine    pizza  pizza take away          Exact\n",
       "4  SEM_cuisine    pizza  pizza take away         Phrase"
      ]
     },
     "execution_count": 16,
     "metadata": {},
     "output_type": "execute_result"
    }
   ],
   "source": [
    "df_keywords.head()"
   ]
  }
 ],
 "metadata": {
  "kernelspec": {
   "display_name": "Python 3",
   "language": "python",
   "name": "python3"
  },
  "language_info": {
   "codemirror_mode": {
    "name": "ipython",
    "version": 3
   },
   "file_extension": ".py",
   "mimetype": "text/x-python",
   "name": "python",
   "nbconvert_exporter": "python",
   "pygments_lexer": "ipython3",
   "version": "3.6.2"
  }
 },
 "nbformat": 4,
 "nbformat_minor": 2
}
